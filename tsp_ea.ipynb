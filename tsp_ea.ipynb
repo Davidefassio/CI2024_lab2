{
 "cells": [
  {
   "cell_type": "markdown",
   "metadata": {},
   "source": [
    "# Lab 02 (Traveling Salesman Problem)\n",
    "\n",
    "Using Evolutionary Algorithm"
   ]
  },
  {
   "cell_type": "code",
   "execution_count": 15,
   "metadata": {},
   "outputs": [],
   "source": [
    "import functools\n",
    "import random\n",
    "import pandas as pd\n",
    "import matplotlib.pyplot as plt\n",
    "import numpy as np\n",
    "from geopy.distance import geodesic\n",
    "from tqdm.auto import tqdm"
   ]
  },
  {
   "cell_type": "markdown",
   "metadata": {},
   "source": [
    "## Initialization"
   ]
  },
  {
   "cell_type": "code",
   "execution_count": 16,
   "metadata": {},
   "outputs": [],
   "source": [
    "class Individual:\n",
    "    def __init__(self, genome=None, fitness_score=None):\n",
    "        self.genome = genome\n",
    "        self.fitness = fitness_score\n",
    "\n",
    "    def __repr__(self):\n",
    "        return f\"Fitness: {self.fitness}, {self.genome}\"\n",
    "\n",
    "\n",
    "# Function to read coordinates from a CSV file\n",
    "def read_coordinates_from_csv(file_path):\n",
    "    dtype_dict = {'city': 'string', 'lat': 'float64', 'lon': 'float64'}\n",
    "    df = pd.read_csv(file_path, header=None, names=['city', 'lat', 'lon'], dtype=dtype_dict, low_memory=False)\n",
    "    coords = df[['lat', 'lon']].values\n",
    "    return coords\n",
    "\n",
    "\n",
    "# Function to compute the distance matrix in kilometers\n",
    "def distance_matrix(coords):\n",
    "    dmat = np.zeros((len(coords), len(coords)), dtype=np.float64)\n",
    "    for i, (x1, y1) in enumerate(coords):\n",
    "        for j, (x2, y2) in enumerate(coords):\n",
    "            dmat[i][j] = geodesic((x1, y1), (x2, y2)).km\n",
    "    return dmat"
   ]
  },
  {
   "cell_type": "markdown",
   "metadata": {},
   "source": [
    "## Helper Functions"
   ]
  },
  {
   "cell_type": "code",
   "execution_count": 17,
   "metadata": {},
   "outputs": [],
   "source": [
    "def counter(fn):\n",
    "    \"\"\"Simple decorator for counting number of calls\"\"\"\n",
    "\n",
    "    @functools.wraps(fn)\n",
    "    def helper(*args, **kargs):\n",
    "        helper.calls += 1\n",
    "        return fn(*args, **kargs)\n",
    "\n",
    "    helper.calls = 0\n",
    "    return helper\n",
    "\n",
    "\n",
    "@counter\n",
    "def cost(dmat, path):\n",
    "    \"\"\"Calculate total distance of the TSP path\"\"\"\n",
    "    total_distance = 0\n",
    "    for i in range(len(path) - 1):\n",
    "        u, v = path[i], path[i + 1]\n",
    "        total_distance += dmat[u][v]\n",
    "\n",
    "    # Add starting point to close the loop\n",
    "    u, v = path[-1], path[0]\n",
    "    total_distance += dmat[u][v]\n",
    "\n",
    "    return total_distance\n",
    "\n",
    "\n",
    "def fitness(dmat, individual):\n",
    "    \"\"\"\n",
    "    Returns the fitness of a individual (to be minimized).\n",
    "    The solution is assumed to be valid.\n",
    "    \"\"\"\n",
    "    return cost(dmat, individual.genome)"
   ]
  },
  {
   "cell_type": "markdown",
   "metadata": {},
   "source": [
    "## Genetic Operators"
   ]
  },
  {
   "cell_type": "code",
   "execution_count": 18,
   "metadata": {},
   "outputs": [],
   "source": [
    "def create_random_genome(length):\n",
    "    genome = np.arange(length)\n",
    "    np.random.shuffle(genome)\n",
    "    return genome\n",
    "\n",
    "\n",
    "def mutation_swap(p1):\n",
    "    \"\"\"Swap two cities\"\"\"\n",
    "    new_genome = p1.genome.copy()\n",
    "    idx1, idx2 = np.random.randint(0, len(new_genome), 2)\n",
    "    new_genome[idx1], new_genome[idx2] = new_genome[idx2], new_genome[idx1]\n",
    "    return Individual(new_genome)\n",
    "\n",
    "\n",
    "def mutation_inv(p1):\n",
    "    \"\"\"Reverse the order between cut-off points\"\"\"\n",
    "    new_genome = p1.genome.copy()\n",
    "    idx1, idx2 = np.sort(np.random.randint(0, len(new_genome), 2))\n",
    "\n",
    "    new_genome = np.concatenate((new_genome[:idx1], new_genome[idx1:idx2 + 1][::-1], new_genome[idx2 + 1:]))\n",
    "    return Individual(new_genome)\n",
    "\n",
    "\n",
    "def mutation_multi(p1, prob_multi=0.5, prob_inv=0.5):\n",
    "    \"\"\"Apply the mutations multiple times\"\"\"\n",
    "    new_ind = mutation_inv(p1) if np.random.random() < prob_inv else mutation_swap(p1)\n",
    "    while np.random.random() < prob_multi:\n",
    "        new_ind = mutation_inv(p1) if np.random.random() < prob_inv else mutation_swap(p1)\n",
    "    return new_ind\n",
    "\n",
    "\n",
    "def xover_order(p1, p2):\n",
    "    \"\"\"Order crossover\"\"\"\n",
    "    length = len(p1.genome)\n",
    "\n",
    "    # Choose cut-off points\n",
    "    idx1, idx2 = np.sort(np.random.randint(0, length, 2))\n",
    "\n",
    "    # Create offspring by copying the p1 genome between the cuts\n",
    "    offspring = np.full((length,), -1)\n",
    "    offspring[idx1:idx2] = p1.genome[idx1:idx2]\n",
    "\n",
    "    # Fill the rest with p2 without repeating\n",
    "    current_position = idx2 % length\n",
    "    for gene in p2.genome:\n",
    "        if gene not in offspring:\n",
    "            offspring[current_position] = gene\n",
    "            current_position = (current_position + 1) % length\n",
    "\n",
    "    return Individual(offspring)\n",
    "\n",
    "\n",
    "def parent_selection(population, n=2):\n",
    "    \"\"\"Implement tournament selection\"\"\"\n",
    "    selected_individuals = random.sample(population, n)\n",
    "    return min(selected_individuals, key=lambda individual: individual.fitness)"
   ]
  },
  {
   "cell_type": "markdown",
   "metadata": {},
   "source": [
    "## Evolutionary Algorithm"
   ]
  },
  {
   "cell_type": "code",
   "execution_count": 19,
   "metadata": {},
   "outputs": [
    {
     "name": "stderr",
     "output_type": "stream",
     "text": [
      "100%|██████████| 2000/2000 [05:48<00:00,  5.74it/s]\n"
     ]
    },
    {
     "name": "stdout",
     "output_type": "stream",
     "text": [
      "TSP Path: [ 89 112  12 135  88  53 128  42  63  38  24  30  72  45 111 149  73 100\n",
      "  99  91 101  49  20 166  62  65 143 131 117  96 104  14  79  55  97 113\n",
      "  15  86 109  40 139 124  11  90   1  58  57   0  54  17  31   3 144  23\n",
      "  16 157  48  41 146 151   6  71 162 106  61  82  92  93 132  78  75 137\n",
      " 142  36 105 159  74  33  44 161  39  83  19  80 114 136 102  56  13 129\n",
      " 160  87 140  98 165  46  10  43 121 115 141 127 147  34 110 148  47 116\n",
      " 107 133   4 123  67  21 154 158  51  32  52  26  68 150  27 126 163  69\n",
      "  50  95  66  81 164  60 122  35 108  94  18  59 156 103 119   7 145  25\n",
      "  70  77   2 118 138   9 134  85  29 120  37   8 155 153 152  84  64   5\n",
      "  22  76 130  28 125]\n",
      "Total Distance Travelled: 43476.054423307534\n",
      "Cost calls: 1200201\n"
     ]
    },
    {
     "data": {
      "image/png": "[encoded data removed]",
      "text/plain": [
       "<Figure size 640x480 with 1 Axes>"
      ]
     },
     "metadata": {},
     "output_type": "display_data"
    }
   ],
   "source": [
    "\"\"\"\n",
    "Evolutionary algorithm:\n",
    "    - Hyper-modern approach\n",
    "    - Generational with elitism\n",
    "\"\"\"\n",
    "\n",
    "# Evolutionary algorithm Parameters\n",
    "POPULATION_SIZE = 200\n",
    "MAX_GENERATIONS = 2000\n",
    "OFFSPRING_SIZE = POPULATION_SIZE * 3\n",
    "PROB_MUTATION = 0.5\n",
    "PROB_MULTI_MUT = 0.5\n",
    "PROB_INV_MUT = 0.5\n",
    "ELITISM = 1\n",
    "plot_results = True\n",
    "###################################\n",
    "\n",
    "# Create problem\n",
    "csv_file = 'cities/russia.csv'\n",
    "coords = read_coordinates_from_csv(csv_file)\n",
    "dmat = distance_matrix(coords)\n",
    "\n",
    "# Initial population\n",
    "population = [Individual(create_random_genome(len(coords))) for _ in range(POPULATION_SIZE)]\n",
    "for p in population:\n",
    "    p.fitness = fitness(dmat, p)\n",
    "\n",
    "bests = []\n",
    "\n",
    "population.sort(key=lambda ind: ind.fitness)\n",
    "bests.append(population[0])\n",
    "\n",
    "for _ in tqdm(range(MAX_GENERATIONS)):\n",
    "    # Offspring generation\n",
    "    offspring = []\n",
    "    for _ in range(OFFSPRING_SIZE):\n",
    "        if np.random.random() < PROB_MUTATION:\n",
    "            p = parent_selection(population)\n",
    "            o = mutation_multi(p, PROB_MULTI_MUT, PROB_INV_MUT)\n",
    "        else:\n",
    "            p1 = parent_selection(population)\n",
    "            p2 = parent_selection(population)\n",
    "            o = xover_order(p1, p2)\n",
    "        offspring.append(o)\n",
    "\n",
    "    for i in offspring:\n",
    "        i.fitness = fitness(dmat, i)\n",
    "\n",
    "    offspring.extend(population[:ELITISM])\n",
    "\n",
    "    # Survivor selection\n",
    "    population = offspring\n",
    "    population.sort(key=lambda ind: ind.fitness)\n",
    "    population = population[:POPULATION_SIZE]\n",
    "    bests.append(population[0])\n",
    "\n",
    "# Results\n",
    "total_distance = cost(dmat, bests[-1].genome)\n",
    "print(f\"TSP Path: {bests[-1].genome}\")\n",
    "print(f\"Total Distance Travelled: {total_distance}\")\n",
    "print(f\"Cost calls: {cost.calls}\")\n",
    "\n",
    "if plot_results:\n",
    "    # Plot fitness\n",
    "    plt.plot(np.array([i.fitness for i in bests]))\n",
    "    plt.show()"
   ]
  }
 ],
 "metadata": {
  "kernelspec": {
   "display_name": "venv",
   "language": "python",
   "name": "python3"
  },
  "language_info": {
   "codemirror_mode": {
    "name": "ipython",
    "version": 3
   },
   "file_extension": ".py",
   "mimetype": "text/x-python",
   "name": "python",
   "nbconvert_exporter": "python",
   "pygments_lexer": "ipython3",
   "version": "3.10.12"
  }
 },
 "nbformat": 4,
 "nbformat_minor": 2
}
