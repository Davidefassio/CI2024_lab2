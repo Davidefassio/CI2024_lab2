{
 "cells": [
  {
   "cell_type": "markdown",
   "metadata": {},
   "source": [
    "# Lab 02 (Traveling Salesman Problem)\n",
    "\n",
    "Using Christofides Algorithm to compute a 3/2-approximation"
   ]
  },
  {
   "cell_type": "code",
   "execution_count": 1,
   "metadata": {},
   "outputs": [],
   "source": [
    "import pandas as pd\n",
    "import networkx as nx\n",
    "import matplotlib.pyplot as plt\n",
    "import numpy as np\n",
    "from geopy.distance import geodesic\n",
    "import networkx as nx"
   ]
  },
  {
   "cell_type": "markdown",
   "metadata": {},
   "source": [
    "## Initialization"
   ]
  },
  {
   "cell_type": "code",
   "execution_count": 2,
   "metadata": {},
   "outputs": [],
   "source": [
    "# Function to read coordinates from a CSV file\n",
    "def read_coordinates_from_csv(file_path):\n",
    "    dtype_dict = {'city': 'string', 'lat': 'float64', 'lon': 'float64'}\n",
    "    df = pd.read_csv(file_path, header=None, names=['city', 'lat', 'lon'], dtype=dtype_dict, low_memory=False)\n",
    "    coords = df[['lat', 'lon']].values\n",
    "    return coords\n",
    "\n",
    "\n",
    "def create_graph_from_coords(coords):\n",
    "    \"\"\"Create a complete graph with distances as weights\"\"\"\n",
    "    G = nx.complete_graph(len(coords))\n",
    "\n",
    "    for i, (x1, y1) in enumerate(coords):\n",
    "        for j, (x2, y2) in enumerate(coords):\n",
    "            if i != j:\n",
    "                distance = geodesic((x1, y1), (x2, y2)).km\n",
    "                G[i][j]['weight'] = distance\n",
    "    return G\n",
    "\n",
    "\n",
    "def calculate_total_distance(G, path):\n",
    "    \"\"\"Calculate total distance of the TSP path\"\"\"\n",
    "    assert path[0] == path[-1]\n",
    "    assert len(path) - 1 == len(set(path))\n",
    "\n",
    "    total_distance = 0\n",
    "    for i in range(len(path) - 1):\n",
    "        u, v = path[i], path[i + 1]\n",
    "        total_distance += G[u][v]['weight']\n",
    "    return total_distance\n"
   ]
  },
  {
   "cell_type": "markdown",
   "metadata": {},
   "source": [
    "## Christofides Algorithm"
   ]
  },
  {
   "cell_type": "markdown",
   "metadata": {},
   "source": [
    "### My Implementation"
   ]
  },
  {
   "cell_type": "code",
   "execution_count": 6,
   "metadata": {},
   "outputs": [],
   "source": [
    "def minimum_spanning_tree(G):\n",
    "    \"\"\"Create a Minimum Spanning Tree\"\"\"\n",
    "    return nx.minimum_spanning_tree(G)\n",
    "\n",
    "def odd_degree_vertices(G):\n",
    "    \"\"\"Find vertices with odd degree\"\"\"\n",
    "    return [v for v in G.nodes() if G.degree(v) % 2 == 1]\n",
    "\n",
    "def minimum_weight_matching(G, odd_vertices):\n",
    "    \"\"\"Find a minimum-weight perfect matching for the odd-degree vertices\"\"\"\n",
    "    subgraph = G.subgraph(odd_vertices)\n",
    "    min_matching = nx.algorithms.matching.min_weight_matching(subgraph)\n",
    "    return list(min_matching)\n",
    "\n",
    "def multigraph_from_mst_and_matching(mst, matching_edges):\n",
    "    \"\"\"Combine Minimum Spanning Tree and Perfect Matching\"\"\"\n",
    "    multigraph = nx.MultiGraph(mst)\n",
    "    multigraph.add_edges_from(matching_edges)\n",
    "    return multigraph\n",
    "\n",
    "def eulerian_circuit(G):\n",
    "    \"\"\"Find Eulerian Circuit\"\"\"\n",
    "    return list(nx.eulerian_circuit(G))\n",
    "\n",
    "def tsp_solver_mine(G):\n",
    "    mst = minimum_spanning_tree(G)\n",
    "    odd_vertices = odd_degree_vertices(mst)\n",
    "    matching = minimum_weight_matching(G, odd_vertices)\n",
    "    multigraph = multigraph_from_mst_and_matching(mst, matching)\n",
    "    eulerian_circ = eulerian_circuit(multigraph)\n",
    "    \n",
    "    # Convert Eulerian circuit to Hamiltonian circuit by skipping duplicates\n",
    "    visited = set()\n",
    "    tsp_path = []\n",
    "    for u, v in eulerian_circ:\n",
    "        if u not in visited:\n",
    "            tsp_path.append(u)\n",
    "            visited.add(u)\n",
    "    tsp_path.append(tsp_path[0])  # Return to the starting node\n",
    "    \n",
    "    return tsp_path"
   ]
  },
  {
   "cell_type": "markdown",
   "metadata": {},
   "source": [
    "### Official Implementation"
   ]
  },
  {
   "cell_type": "code",
   "execution_count": 4,
   "metadata": {},
   "outputs": [],
   "source": [
    "def tsp_solver_official(G):\n",
    "    return nx.algorithms.approximation.christofides(G)"
   ]
  },
  {
   "cell_type": "code",
   "execution_count": 7,
   "metadata": {},
   "outputs": [
    {
     "name": "stdout",
     "output_type": "stream",
     "text": [
      "TSP Path: [0, 3, 5, 6, 2, 4, 1, 7, 0]\n",
      "Total Distance Travelled: 1397.4426516961423\n"
     ]
    }
   ],
   "source": [
    "csv_file = 'cities/vanuatu.csv'\n",
    "coords = read_coordinates_from_csv(csv_file)\n",
    "\n",
    "G = create_graph_from_coords(coords)\n",
    "\n",
    "# Use tsp_solver_official to test the internal implementation by networkx\n",
    "tsp_path = tsp_solver_mine(G)\n",
    "\n",
    "# Results\n",
    "total_distance = calculate_total_distance(G, tsp_path)\n",
    "print(\"TSP Path:\", tsp_path)\n",
    "print(\"Total Distance Travelled:\", total_distance)"
   ]
  }
 ],
 "metadata": {
  "kernelspec": {
   "display_name": "venv",
   "language": "python",
   "name": "python3"
  },
  "language_info": {
   "codemirror_mode": {
    "name": "ipython",
    "version": 3
   },
   "file_extension": ".py",
   "mimetype": "text/x-python",
   "name": "python",
   "nbconvert_exporter": "python",
   "pygments_lexer": "ipython3",
   "version": "3.10.12"
  }
 },
 "nbformat": 4,
 "nbformat_minor": 2
}
